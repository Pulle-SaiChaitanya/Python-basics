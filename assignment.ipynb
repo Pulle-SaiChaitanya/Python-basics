{
 "cells": [
  {
   "cell_type": "code",
   "execution_count": 1,
   "id": "ea2347a6-fa15-4b51-9de9-cf5cce63d4d3",
   "metadata": {},
   "outputs": [],
   "source": [
    "# Assignment 1 (first week)"
   ]
  },
  {
   "cell_type": "code",
   "execution_count": 7,
   "id": "03b96ea5-f97f-460c-aced-cfb8c283379e",
   "metadata": {},
   "outputs": [
    {
     "name": "stdout",
     "output_type": "stream",
     "text": [
      "<class 'str'> <class 'list'> <class 'float'> <class 'tuple'>\n"
     ]
    }
   ],
   "source": [
    "# Create one variable containing following type of data:\n",
    "\n",
    "a= 'Sai Chaitanya' #String\n",
    "b= [1,2,'mouse','keyboard',22+39j,3.14] #List\n",
    "c= 2.3456 #Float\n",
    "d= (1,2,3,4,'a','b','c','d')\n",
    "\n",
    "print(type(a),type(b),type(c),type(d))"
   ]
  },
  {
   "cell_type": "code",
   "execution_count": 8,
   "id": "e1256ada-71d4-40bf-84c1-3e4801c7b6bc",
   "metadata": {},
   "outputs": [
    {
     "name": "stdout",
     "output_type": "stream",
     "text": [
      "<class 'str'> <class 'str'> <class 'list'> <class 'float'>\n"
     ]
    }
   ],
   "source": [
    "# finding the data type of the given varibles\n",
    "\n",
    "var1 = ' '; # as the varible is having only inverted commas and nothing is present in it, It will be string\n",
    "var2 = '[ DS , ML , Python]'; # as the varible has some data and everything is written in between the \n",
    "#inverted commas it is a string.\n",
    "\n",
    "var3 = ['DS', 'ML' ,'Python']; # in this varible it is started with square bracket and has \n",
    "# 3 string data in side it separated by , so this Var3 varible is a List data type.\n",
    "var4 = 1.; # this Var4 varible having data 1. so that means it is a float data type.\n",
    "\n",
    "print(type(var1),type(var2),type(var3),type(var4));"
   ]
  },
  {
   "cell_type": "code",
   "execution_count": 15,
   "id": "b406de40-2de7-4914-8092-c1a6ca0a3f8a",
   "metadata": {},
   "outputs": [
    {
     "name": "stdin",
     "output_type": "stream",
     "text": [
      "enter the value of A 21\n",
      "enter the value of B 10\n"
     ]
    },
    {
     "name": "stdout",
     "output_type": "stream",
     "text": [
      "<class 'float'>\n",
      "division operator output 2.1 <class 'float'>\n",
      "Floor Division operator output 2 <class 'int'>\n",
      "Modulus operator output 1 <class 'int'>\n",
      "exponent operator output 16679880978201 <class 'int'>\n"
     ]
    }
   ],
   "source": [
    "# following operators using an example:\n",
    "\n",
    "a=int(input('enter the value of A'));\n",
    "b=int(input('enter the value of B'));\n",
    "\n",
    "''' Division operator (/) '''\n",
    "\n",
    "# this Division operator gives the quotient in Float data type\n",
    "c=a/b;\n",
    "print(type(c));\n",
    "\n",
    "''' Floor Division operator (//) '''\n",
    "# this Floor Division operator gives the quotient in integer data type by neglecting the float values.\n",
    "d=a//b;\n",
    "\n",
    "''' Modulus operator (%) '''\n",
    "\n",
    "# this modulus operator gives the Remainder in int data type\n",
    "e=a%b;\n",
    "\n",
    "''' exponent operator (**) '''\n",
    "\n",
    "# This Operator is the power operator where the first varible is base and 2nd varible is exponent.\n",
    "\n",
    "f=a**b\n",
    "\n",
    "print('division operator output',c,type(c));\n",
    "print('Floor Division operator output',d,type(d));\n",
    "print('Modulus operator output',e,type(e));\n",
    "print('exponent operator output',f,type(f));\n"
   ]
  },
  {
   "cell_type": "code",
   "execution_count": 32,
   "id": "1d99edee-3522-454b-b10a-428a080bbc2b",
   "metadata": {},
   "outputs": [
    {
     "name": "stdin",
     "output_type": "stream",
     "text": [
      "enter an interger 10\n",
      "enter an interger 20\n",
      "enter a string chaitanya\n",
      "enter a float 3.14\n",
      "enter an interger 35\n",
      "enter an interger 47\n",
      "enter a string Zoook\n",
      "enter a float 43243.343\n",
      "enter a complex 4+27j\n",
      "Enter a binary number 27\n"
     ]
    },
    {
     "name": "stdout",
     "output_type": "stream",
     "text": [
      "the element in index 0 is 10 type of index 0 element is <class 'int'>\n",
      "the element in index 1 is 20 type of index 1 element is <class 'int'>\n",
      "the element in index 2 is chaitanya type of index 2 element is <class 'str'>\n",
      "the element in index 3 is 3.14 type of index 3 element is <class 'float'>\n",
      "the element in index 4 is 35 type of index 4 element is <class 'int'>\n",
      "the element in index 5 is 47 type of index 5 element is <class 'int'>\n",
      "the element in index 6 is Zoook type of index 6 element is <class 'str'>\n",
      "the element in index 7 is 43243.343 type of index 7 element is <class 'float'>\n",
      "the element in index 8 is (4+27j) type of index 8 element is <class 'complex'>\n",
      "the element in index 9 is 27 type of index 9 element is <class 'int'>\n"
     ]
    }
   ],
   "source": [
    "# Create a list of length 10 of your choice containing multiple types of data. Using for loop print the\n",
    "# element and its data type.\n",
    "\n",
    "l= [int(input('enter an interger')),int(input('enter an interger')),str(input('enter a string')), float(input('enter a float')),int(input('enter an interger')),int(input('enter an interger')),str(input('enter a string')), float(input('enter a float')),complex(input('enter a complex')),int(input('Enter a integer number'))]\n",
    "\n",
    "d=len(l);\n",
    "for i in range (0,d):\n",
    "    print('the element in index',i,'is',l[i],'type of index',i,'element is',type(l[i]));\n"
   ]
  },
  {
   "cell_type": "code",
   "execution_count": 5,
   "id": "2c88a8cb-f155-4f5c-b48d-eadf3c51a249",
   "metadata": {},
   "outputs": [
    {
     "name": "stdin",
     "output_type": "stream",
     "text": [
      "enter number A -5\n",
      "enter number B -1\n"
     ]
    },
    {
     "name": "stdout",
     "output_type": "stream",
     "text": [
      "Number A is Divisible by B and A is Divisible by B 5 times\n"
     ]
    }
   ],
   "source": [
    "#Using a while loop, verify if the number A is purely divisible by number B and if so then how many\n",
    "#times it can be divisible.\n",
    "\n",
    "a= int(input('enter number A'));\n",
    "b= int(input('enter number B'));\n",
    "i=1;\n",
    "while i==1:\n",
    "    if a%b==0:\n",
    "        print('Number A is Divisible by B and A is Divisible by B',a//b,'times');\n",
    "        break;\n",
    "    else:\n",
    "        print('Number A is not Divisible by B');\n",
    "        break;"
   ]
  },
  {
   "cell_type": "code",
   "execution_count": 8,
   "id": "3e047ceb-6967-416d-84c8-08815f48ea5c",
   "metadata": {},
   "outputs": [
    {
     "name": "stdout",
     "output_type": "stream",
     "text": [
      "1 is not divisible by 3\n",
      "2 is not divisible by 3\n",
      "3 is divisible by 3\n",
      "4 is not divisible by 3\n",
      "5 is not divisible by 3\n",
      "6 is divisible by 3\n",
      "7 is not divisible by 3\n",
      "8 is not divisible by 3\n",
      "9 is divisible by 3\n",
      "10 is not divisible by 3\n",
      "11 is not divisible by 3\n",
      "12 is divisible by 3\n",
      "13 is not divisible by 3\n",
      "14 is not divisible by 3\n",
      "15 is divisible by 3\n",
      "16 is not divisible by 3\n",
      "17 is not divisible by 3\n",
      "18 is divisible by 3\n",
      "19 is not divisible by 3\n",
      "20 is not divisible by 3\n",
      "21 is divisible by 3\n",
      "22 is not divisible by 3\n",
      "23 is not divisible by 3\n",
      "24 is divisible by 3\n",
      "25 is not divisible by 3\n"
     ]
    }
   ],
   "source": [
    "numbers= [1,2,3,4,5,6,7,8,9,10,11,12,13,14,15,16,17,18,19,20,21,22,23,24,25];\n",
    "i= len(numbers);\n",
    "for j in range (0,i):\n",
    "    if numbers[j]%3==0:\n",
    "        print(numbers[j],'is divisible by 3');\n",
    "    else:\n",
    "        print(numbers[j],'is not divisible by 3');\n"
   ]
  },
  {
   "cell_type": "code",
   "execution_count": 18,
   "id": "717e5e7e-93a5-43f7-8d4f-0cf7ddc9eaa2",
   "metadata": {},
   "outputs": [
    {
     "name": "stdout",
     "output_type": "stream",
     "text": [
      "[1, 2, 3, 4, 5]\n",
      "3\n",
      "[1, 2, 'r', 4, 5]\n",
      "a\n"
     ]
    },
    {
     "ename": "TypeError",
     "evalue": "'str' object does not support item assignment",
     "output_type": "error",
     "traceback": [
      "\u001b[0;31m---------------------------------------------------------------------------\u001b[0m",
      "\u001b[0;31mTypeError\u001b[0m                                 Traceback (most recent call last)",
      "Cell \u001b[0;32mIn[18], line 21\u001b[0m\n\u001b[1;32m     17\u001b[0m \u001b[38;5;28mprint\u001b[39m(page);\n\u001b[1;32m     19\u001b[0m \u001b[38;5;28mprint\u001b[39m(name[\u001b[38;5;241m2\u001b[39m]) \u001b[38;5;66;03m# we can fetch the data of a string at perticular index\u001b[39;00m\n\u001b[0;32m---> 21\u001b[0m \u001b[43mname\u001b[49m\u001b[43m[\u001b[49m\u001b[38;5;241;43m2\u001b[39;49m\u001b[43m]\u001b[49m\u001b[38;5;241m=\u001b[39m\u001b[38;5;124m'\u001b[39m\u001b[38;5;124mr\u001b[39m\u001b[38;5;124m'\u001b[39m; \u001b[38;5;66;03m# we cannot change the data of a string at perticular index this says it is immutable \u001b[39;00m\n",
      "\u001b[0;31mTypeError\u001b[0m: 'str' object does not support item assignment"
     ]
    }
   ],
   "source": [
    "# Mutable and Immutable data types\n",
    "\n",
    "'''if we can change the object state after it is created it is called mutable\n",
    "if we cannot change the object state after it is created it is called immutable'''\n",
    "\n",
    "# For Example Lists are mutable and Strings are not mutable.\n",
    "\n",
    "page=[1,2,3,4,5]; # List\n",
    "name='chaitanya'; # String\n",
    "\n",
    "print(page);\n",
    "\n",
    "print(page[2]) # we can fetch the data of a list at perticular index\n",
    "\n",
    "page[2]='r'; # we can change the data of a list at perticular index this says it is immutable \n",
    "\n",
    "print(page);\n",
    "\n",
    "print(name[2]) # we can fetch the data of a string at perticular index\n",
    "\n",
    "name[2]='r'; # we cannot change the data of a string at perticular index this says it is immutable \n"
   ]
  },
  {
   "cell_type": "code",
   "execution_count": null,
   "id": "83db0c21-e8a0-45e3-918e-d542d33179cb",
   "metadata": {},
   "outputs": [],
   "source": []
  }
 ],
 "metadata": {
  "kernelspec": {
   "display_name": "Python 3 (ipykernel)",
   "language": "python",
   "name": "python3"
  },
  "language_info": {
   "codemirror_mode": {
    "name": "ipython",
    "version": 3
   },
   "file_extension": ".py",
   "mimetype": "text/x-python",
   "name": "python",
   "nbconvert_exporter": "python",
   "pygments_lexer": "ipython3",
   "version": "3.10.8"
  }
 },
 "nbformat": 4,
 "nbformat_minor": 5
}
