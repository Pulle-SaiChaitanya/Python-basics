{
 "cells": [
  {
   "cell_type": "code",
   "execution_count": 1,
   "id": "9fc60634-a153-4cdb-9877-efcfbbdd0302",
   "metadata": {},
   "outputs": [
    {
     "name": "stdout",
     "output_type": "stream",
     "text": [
      "Welcome to the programming world\n"
     ]
    }
   ],
   "source": [
    "print(\"Welcome to the programming world\")"
   ]
  },
  {
   "cell_type": "code",
   "execution_count": 2,
   "id": "99fdfd95-472e-4304-9620-7f01e31103f5",
   "metadata": {},
   "outputs": [],
   "source": [
    "a= 10"
   ]
  },
  {
   "cell_type": "code",
   "execution_count": 3,
   "id": "957ae625-e995-4e76-9413-100296da79ab",
   "metadata": {},
   "outputs": [
    {
     "data": {
      "text/plain": [
       "int"
      ]
     },
     "execution_count": 3,
     "metadata": {},
     "output_type": "execute_result"
    }
   ],
   "source": [
    "type(a)\n"
   ]
  },
  {
   "cell_type": "code",
   "execution_count": 4,
   "id": "0a84cb17-6616-4956-8bfd-e290d7fb9c93",
   "metadata": {},
   "outputs": [],
   "source": [
    "b = 345.1234"
   ]
  },
  {
   "cell_type": "code",
   "execution_count": 5,
   "id": "7ba522bd-e506-4e08-bff5-2ee9894ec7d9",
   "metadata": {},
   "outputs": [
    {
     "data": {
      "text/plain": [
       "float"
      ]
     },
     "execution_count": 5,
     "metadata": {},
     "output_type": "execute_result"
    }
   ],
   "source": [
    "type (b)"
   ]
  },
  {
   "cell_type": "code",
   "execution_count": 6,
   "id": "51dced7c-0f7a-4eec-8a33-3d3066d78c4e",
   "metadata": {},
   "outputs": [],
   "source": [
    "c1= \"string of thread\""
   ]
  },
  {
   "cell_type": "code",
   "execution_count": 8,
   "id": "ed9b8538-f283-4072-8d05-d6de5495584f",
   "metadata": {},
   "outputs": [
    {
     "data": {
      "text/plain": [
       "str"
      ]
     },
     "execution_count": 8,
     "metadata": {},
     "output_type": "execute_result"
    }
   ],
   "source": [
    "type (c1)"
   ]
  },
  {
   "cell_type": "code",
   "execution_count": 9,
   "id": "c6454a87-eaa8-4851-bc93-aa0a007fad8c",
   "metadata": {},
   "outputs": [],
   "source": [
    "d= True"
   ]
  },
  {
   "cell_type": "code",
   "execution_count": 10,
   "id": "cc4b3509-b9e0-4500-b9e1-2d94dab179fc",
   "metadata": {},
   "outputs": [
    {
     "data": {
      "text/plain": [
       "bool"
      ]
     },
     "execution_count": 10,
     "metadata": {},
     "output_type": "execute_result"
    }
   ],
   "source": [
    "type (d)"
   ]
  },
  {
   "cell_type": "code",
   "execution_count": 12,
   "id": "0dc071b4-9155-41e2-a728-c7600eaee01d",
   "metadata": {},
   "outputs": [],
   "source": [
    "e = 4+7j"
   ]
  },
  {
   "cell_type": "code",
   "execution_count": 13,
   "id": "fe7b5293-1310-4e0c-b43b-67db365ddfa1",
   "metadata": {},
   "outputs": [
    {
     "data": {
      "text/plain": [
       "complex"
      ]
     },
     "execution_count": 13,
     "metadata": {},
     "output_type": "execute_result"
    }
   ],
   "source": [
    "type (e)"
   ]
  },
  {
   "cell_type": "code",
   "execution_count": 14,
   "id": "d1462d12-fb7f-4374-b163-3ce857fc4cc8",
   "metadata": {},
   "outputs": [
    {
     "data": {
      "text/plain": [
       "4.0"
      ]
     },
     "execution_count": 14,
     "metadata": {},
     "output_type": "execute_result"
    }
   ],
   "source": [
    "e.real"
   ]
  },
  {
   "cell_type": "code",
   "execution_count": 15,
   "id": "2e7020f1-7a67-4ac2-8c20-cf44d5c7e987",
   "metadata": {},
   "outputs": [
    {
     "data": {
      "text/plain": [
       "7.0"
      ]
     },
     "execution_count": 15,
     "metadata": {},
     "output_type": "execute_result"
    }
   ],
   "source": [
    "e.imag"
   ]
  },
  {
   "cell_type": "code",
   "execution_count": 16,
   "id": "7bb3c894-655d-4d9b-a27a-e094befc50c0",
   "metadata": {},
   "outputs": [
    {
     "data": {
      "text/plain": [
       "<function complex.conjugate()>"
      ]
     },
     "execution_count": 16,
     "metadata": {},
     "output_type": "execute_result"
    }
   ],
   "source": [
    "e.conjugate\n"
   ]
  },
  {
   "cell_type": "code",
   "execution_count": 17,
   "id": "823e2325-a145-46e8-86a1-39233c2e1116",
   "metadata": {},
   "outputs": [
    {
     "name": "stdin",
     "output_type": "stream",
     "text": [
      " 34567\n"
     ]
    }
   ],
   "source": [
    "b = input()\n"
   ]
  },
  {
   "cell_type": "code",
   "execution_count": null,
   "id": "26250003-47e4-42ba-9f90-77aa0198a38a",
   "metadata": {},
   "outputs": [],
   "source": []
  },
  {
   "cell_type": "code",
   "execution_count": null,
   "id": "2134551d-d393-4e1f-92c0-2f9ed1388f87",
   "metadata": {},
   "outputs": [],
   "source": []
  },
  {
   "cell_type": "code",
   "execution_count": 19,
   "id": "c822f60c-32a7-4126-bab7-e31d84932388",
   "metadata": {},
   "outputs": [
    {
     "name": "stdout",
     "output_type": "stream",
     "text": [
      "34567\n"
     ]
    }
   ],
   "source": [
    "print (b)"
   ]
  },
  {
   "cell_type": "code",
   "execution_count": 20,
   "id": "8b5de08f-8152-4b71-aa49-f28fb6ccc05f",
   "metadata": {},
   "outputs": [
    {
     "name": "stdin",
     "output_type": "stream",
     "text": [
      " 123\n"
     ]
    }
   ],
   "source": [
    "# type casting example\n",
    "eng = int(input())"
   ]
  },
  {
   "cell_type": "code",
   "execution_count": 21,
   "id": "0ab0e80b-d588-4419-b888-b1d74401a74f",
   "metadata": {},
   "outputs": [
    {
     "name": "stdout",
     "output_type": "stream",
     "text": [
      "123\n"
     ]
    }
   ],
   "source": [
    "print (eng)"
   ]
  },
  {
   "cell_type": "code",
   "execution_count": null,
   "id": "ab20f985-03be-4a73-96c6-abf3ef998e78",
   "metadata": {},
   "outputs": [],
   "source": []
  }
 ],
 "metadata": {
  "kernelspec": {
   "display_name": "Python 3 (ipykernel)",
   "language": "python",
   "name": "python3"
  },
  "language_info": {
   "codemirror_mode": {
    "name": "ipython",
    "version": 3
   },
   "file_extension": ".py",
   "mimetype": "text/x-python",
   "name": "python",
   "nbconvert_exporter": "python",
   "pygments_lexer": "ipython3",
   "version": "3.10.8"
  }
 },
 "nbformat": 4,
 "nbformat_minor": 5
}
